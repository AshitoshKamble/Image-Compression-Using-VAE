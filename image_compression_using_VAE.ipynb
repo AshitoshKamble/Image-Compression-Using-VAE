{
  "nbformat": 4,
  "nbformat_minor": 0,
  "metadata": {
    "colab": {
      "provenance": []
    },
    "kernelspec": {
      "name": "python3",
      "display_name": "Python 3"
    },
    "language_info": {
      "name": "python"
    }
  },
  "cells": [
    {
      "cell_type": "code",
      "execution_count": null,
      "metadata": {
        "id": "AEUP0P-qmIlK"
      },
      "outputs": [],
      "source": [
        "import numpy as np\n",
        "import tensorflow as tf\n",
        "from tensorflow import keras\n",
        "from tensorflow.keras import layers\n",
        "from tensorflow.keras.datasets import mnist"
      ]
    },
    {
      "cell_type": "code",
      "source": [
        "(x_train, _x), (x_test, _) = mnist.load_data()"
      ],
      "metadata": {
        "id": "BjgKIhy3mVGW",
        "colab": {
          "base_uri": "https://localhost:8080/"
        },
        "outputId": "61e0d35e-8b33-4970-ef6b-8b7366d1d06f"
      },
      "execution_count": null,
      "outputs": [
        {
          "output_type": "stream",
          "name": "stdout",
          "text": [
            "Downloading data from https://storage.googleapis.com/tensorflow/tf-keras-datasets/mnist.npz\n",
            "11490434/11490434 [==============================] - 0s 0us/step\n"
          ]
        }
      ]
    },
    {
      "cell_type": "code",
      "source": [
        "import matplotlib.pyplot as plt\n",
        "\n",
        "n = 10\n",
        "plt. figure(figsize = (20, 4))\n",
        "\n",
        "for i in range(n):\n",
        "    ax = plt.subplot(2, n, i + 1)\n",
        "    plt. imshow(x_train[i].reshape(28, 28))\n",
        "    plt. gray()\n",
        "    ax.get_xaxis().set_visible(False)\n",
        "    ax.get_yaxis().set_visible(False)\n",
        "\n",
        "print(_x[:10])"
      ],
      "metadata": {
        "id": "piPoEUzBnABf",
        "colab": {
          "base_uri": "https://localhost:8080/",
          "height": 185
        },
        "outputId": "6fc1065b-a56d-4f3e-e406-ee93231c68f5"
      },
      "execution_count": null,
      "outputs": [
        {
          "output_type": "stream",
          "name": "stdout",
          "text": [
            "[5 0 4 1 9 2 1 3 1 4]\n"
          ]
        },
        {
          "output_type": "display_data",
          "data": {
            "text/plain": [
              "<Figure size 2000x400 with 10 Axes>"
            ],
            "image/png": "[encoded data removed]"
          },
          "metadata": {}
        }
      ]
    },
    {
      "cell_type": "code",
      "source": [
        "  # Normalisation\n",
        "x_train = x_train.astype('float32') / 255.0\n",
        "x_test = x_test.astype('float32') / 255.0\n"
      ],
      "metadata": {
        "id": "-A-sXk5imVgA"
      },
      "execution_count": null,
      "outputs": []
    },
    {
      "cell_type": "code",
      "source": [
        "# linearising\n",
        "x_train = x_train.reshape((len(x_train), np.prod(x_train.shape[1:])))\n",
        "x_test = x_test.reshape((len(x_test), np.prod(x_test.shape[1:])))"
      ],
      "metadata": {
        "id": "Wg6ex74ABN9q"
      },
      "execution_count": null,
      "outputs": []
    },
    {
      "cell_type": "code",
      "source": [
        "original_dim = x_train.shape[1]\n",
        "print(original_dim)\n",
        "latent_dim = 32"
      ],
      "metadata": {
        "id": "3-BEUfV5mXgd",
        "colab": {
          "base_uri": "https://localhost:8080/"
        },
        "outputId": "f3d862c6-dc7b-4645-efab-c5ccf9c080f5"
      },
      "execution_count": null,
      "outputs": [
        {
          "output_type": "stream",
          "name": "stdout",
          "text": [
            "784\n"
          ]
        }
      ]
    },
    {
      "cell_type": "code",
      "source": [
        "print(x_train.shape)\n",
        "print(x_test.shape)"
      ],
      "metadata": {
        "colab": {
          "base_uri": "https://localhost:8080/"
        },
        "id": "XdDC0tS5Alq5",
        "outputId": "bfc3fd4e-2e03-460f-c0ff-bc612d98de93"
      },
      "execution_count": null,
      "outputs": [
        {
          "output_type": "stream",
          "name": "stdout",
          "text": [
            "(60000, 784)\n",
            "(10000, 784)\n"
          ]
        }
      ]
    },
    {
      "cell_type": "markdown",
      "source": [
        "![VAE_Basic.png](data:image/png;base64,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)"
      ],
      "metadata": {
        "id": "k5yfueEbVF00"
      }
    },
    {
      "cell_type": "code",
      "source": [
        "# Encoder\n",
        "encoder_inputs = keras.Input(shape=(original_dim,))\n",
        "x = layers.Dense(128, activation=\"relu\")(encoder_inputs)\n",
        "z_mean = layers.Dense(latent_dim)(x)\n",
        "z_log_var = layers.Dense(latent_dim)(x)"
      ],
      "metadata": {
        "id": "IWaBQC6AmZbk"
      },
      "execution_count": null,
      "outputs": []
    },
    {
      "cell_type": "code",
      "source": [
        "def sampling(args):\n",
        "    z_mean, z_log_var = args\n",
        "    epsilon = tf.keras.backend.random_normal(shape=(tf.shape(z_mean)[0], latent_dim))\n",
        "    return z_mean + tf.exp(0.5 * z_log_var) * epsilon"
      ],
      "metadata": {
        "id": "Kk0Sdux_mblu"
      },
      "execution_count": null,
      "outputs": []
    },
    {
      "cell_type": "markdown",
      "source": [
        " returns </br>\n",
        "\n",
        " $z_m + exp(0.5* \\log σ) * \\epsilon $"
      ],
      "metadata": {
        "id": "wlD9NtUiSLWO"
      }
    },
    {
      "cell_type": "code",
      "source": [
        "# Sampling layer - samples mean and log variance of the distribution\n",
        "z = layers.Lambda(sampling)([z_mean, z_log_var])"
      ],
      "metadata": {
        "id": "peJgBSs8meCd"
      },
      "execution_count": null,
      "outputs": []
    },
    {
      "cell_type": "code",
      "source": [
        "# Decoder\n",
        "decoder_inputs = keras.Input(shape=(latent_dim,))\n",
        "x = layers.Dense(128, activation=\"relu\")(decoder_inputs)\n",
        "outputs = layers.Dense(original_dim, activation=\"sigmoid\")(x)"
      ],
      "metadata": {
        "id": "c3RXGllRmjLF"
      },
      "execution_count": null,
      "outputs": []
    },
    {
      "cell_type": "code",
      "source": [
        "encoder = keras.Model(encoder_inputs, [z_mean, z_log_var, z], name=\"encoder\")\n",
        "decoder = keras.Model(decoder_inputs, outputs, name=\"decoder\")"
      ],
      "metadata": {
        "id": "pY59wxc-mkkk"
      },
      "execution_count": null,
      "outputs": []
    },
    {
      "cell_type": "code",
      "source": [
        "# Define the VAE model\n",
        "outputs = decoder(encoder(encoder_inputs)[2])\n",
        "vae = keras.Model(encoder_inputs, outputs, name=\"vae\")"
      ],
      "metadata": {
        "id": "gPNPze0VmmzL"
      },
      "execution_count": null,
      "outputs": []
    },
    {
      "cell_type": "markdown",
      "source": [
        "#### Kullback–Leibler divergence:\n",
        "\n",
        "\n",
        "![image.png](data:image/png;base64,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)\n",
        "\n",
        "\n",
        "$ kl-loss=1+ log(z\\_log\\_var)−z\\_log\\_var−z^2_m +exp(z\\_log\\_var) $\n",
        "\n"
      ],
      "metadata": {
        "id": "_HvVSn04C6Gw"
      }
    },
    {
      "cell_type": "code",
      "source": [
        "# Loss function\n",
        "# Reconstruction loss\n",
        "reconstruction_loss = keras.losses.binary_crossentropy(encoder_inputs, outputs)\n",
        "reconstruction_loss *= original_dim\n",
        "# KL loss\n",
        "kl_loss = 1 + z_log_var - tf.square(z_mean) - tf.exp(z_log_var)\n",
        "kl_loss = tf.reduce_sum(kl_loss, axis=-1)\n",
        "kl_loss *= -0.5\n",
        "vae_loss = tf.reduce_mean(reconstruction_loss + kl_loss)\n",
        "vae.add_loss(vae_loss)"
      ],
      "metadata": {
        "id": "T4GCkffLmoVJ"
      },
      "execution_count": null,
      "outputs": []
    },
    {
      "cell_type": "code",
      "source": [
        "vae.compile(optimizer='adam')\n",
        "\n",
        "vae.fit(x_train, epochs=20, batch_size=64)\n",
        "\n",
        "# Compression and decompression\n",
        "compressed_data, _, _ = encoder.predict(x_test)\n",
        "reconstructed_data = decoder.predict(compressed_data)"
      ],
      "metadata": {
        "colab": {
          "base_uri": "https://localhost:8080/"
        },
        "id": "63zVM3jCmqCg",
        "outputId": "121949be-79c2-4d07-ca44-98c8de460f0d"
      },
      "execution_count": null,
      "outputs": [
        {
          "output_type": "stream",
          "name": "stdout",
          "text": [
            "Epoch 1/20\n",
            "938/938 [==============================] - 15s 15ms/step - loss: 167.3973\n",
            "Epoch 2/20\n",
            "938/938 [==============================] - 14s 15ms/step - loss: 128.2939\n",
            "Epoch 3/20\n",
            "938/938 [==============================] - 15s 15ms/step - loss: 120.0626\n",
            "Epoch 4/20\n",
            "938/938 [==============================] - 9s 10ms/step - loss: 116.3844\n",
            "Epoch 5/20\n",
            "938/938 [==============================] - 9s 10ms/step - loss: 114.3283\n",
            "Epoch 6/20\n",
            "938/938 [==============================] - 9s 9ms/step - loss: 112.9628\n",
            "Epoch 7/20\n",
            "938/938 [==============================] - 7s 8ms/step - loss: 112.0556\n",
            "Epoch 8/20\n",
            "938/938 [==============================] - 8s 9ms/step - loss: 111.3689\n",
            "Epoch 9/20\n",
            "938/938 [==============================] - 8s 9ms/step - loss: 110.7822\n",
            "Epoch 10/20\n",
            "938/938 [==============================] - 8s 8ms/step - loss: 110.3038\n",
            "Epoch 11/20\n",
            "938/938 [==============================] - 9s 9ms/step - loss: 109.8640\n",
            "Epoch 12/20\n",
            "938/938 [==============================] - 7s 7ms/step - loss: 109.5991\n",
            "Epoch 13/20\n",
            "938/938 [==============================] - 9s 10ms/step - loss: 109.2714\n",
            "Epoch 14/20\n",
            "938/938 [==============================] - 7s 8ms/step - loss: 109.0382\n",
            "Epoch 15/20\n",
            "938/938 [==============================] - 10s 10ms/step - loss: 108.7887\n",
            "Epoch 16/20\n",
            "938/938 [==============================] - 8s 8ms/step - loss: 108.6018\n",
            "Epoch 17/20\n",
            "938/938 [==============================] - 9s 9ms/step - loss: 108.3839\n",
            "Epoch 18/20\n",
            "938/938 [==============================] - 8s 9ms/step - loss: 108.1977\n",
            "Epoch 19/20\n",
            "938/938 [==============================] - 8s 8ms/step - loss: 108.0423\n",
            "Epoch 20/20\n",
            "938/938 [==============================] - 9s 10ms/step - loss: 107.8965\n",
            "313/313 [==============================] - 1s 2ms/step\n",
            "313/313 [==============================] - 1s 2ms/step\n"
          ]
        }
      ]
    },
    {
      "cell_type": "code",
      "source": [
        "import matplotlib.pyplot as plt\n",
        "\n",
        "n = 10\n",
        "plt. figure(figsize = (20, 4))\n",
        "\n",
        "for i in range(n):\n",
        "    ax = plt.subplot(2, n, i + 1)\n",
        "    plt.imshow(x_test[i].reshape(28, 28))\n",
        "    plt.gray()\n",
        "    ax.get_xaxis().set_visible(False)\n",
        "    ax.get_yaxis().set_visible(False)\n",
        "\n",
        "    ax = plt. subplot (2, n, i + 1 + n)\n",
        "    plt.imshow(reconstructed_data[i].reshape(28, 28))\n",
        "    plt.gray()\n",
        "    ax.get_xaxis().set_visible(False)\n",
        "    ax.get_yaxis() .set_visible(False)\n",
        "plt. show ()"
      ],
      "metadata": {
        "id": "uRJa5lrAmuAc",
        "colab": {
          "base_uri": "https://localhost:8080/",
          "height": 336
        },
        "outputId": "2e9e248a-60de-438d-aee7-0ae5cc43cc92"
      },
      "execution_count": null,
      "outputs": [
        {
          "output_type": "display_data",
          "data": {
            "text/plain": [
              "<Figure size 2000x400 with 20 Axes>"
            ],
            "image/png": "[encoded data removed]"
          },
          "metadata": {}
        }
      ]
    },
    {
      "cell_type": "code",
      "source": [],
      "metadata": {
        "id": "u6wPDtb9qNbF"
      },
      "execution_count": null,
      "outputs": []
    },
    {
      "cell_type": "code",
      "source": [],
      "metadata": {
        "id": "YfSekgUUm6p4"
      },
      "execution_count": null,
      "outputs": []
    },
    {
      "cell_type": "code",
      "source": [],
      "metadata": {
        "id": "pYSHYvIbm6nA"
      },
      "execution_count": null,
      "outputs": []
    },
    {
      "cell_type": "code",
      "source": [
        "n_ =10\n",
        "compressed_data1, _, _ = encoder.predict(x_train[:n_])\n",
        "reconstructed_data1 = decoder.predict(compressed_data1)\n",
        "\n",
        "print(\"Original images: \\n\")\n",
        "for i in range(n_):\n",
        "    ax = plt.subplot(2, n, i + 1)\n",
        "    plt. imshow(x_train[i].reshape(28, 28))\n",
        "    plt. gray()\n",
        "    ax.get_xaxis().set_visible(False)\n",
        "    ax.get_yaxis().set_visible(False)\n",
        "plt.show()\n",
        "\n",
        "print(\"Reconstructed images: \\n\")\n",
        "for i in range(n_):\n",
        "    ax = plt. subplot (2, n, i + 1 + n)\n",
        "    plt.imshow(reconstructed_data1[i].reshape(28, 28))\n",
        "    plt.gray()\n",
        "    ax.get_xaxis().set_visible(False)\n",
        "    ax.get_yaxis() .set_visible(False)\n",
        "plt. show ()\n",
        "\n"
      ],
      "metadata": {
        "colab": {
          "base_uri": "https://localhost:8080/",
          "height": 245
        },
        "id": "gsImQVjum6kJ",
        "outputId": "3c60bc89-7688-44b7-b95b-f14c498ce1b1"
      },
      "execution_count": null,
      "outputs": [
        {
          "output_type": "stream",
          "name": "stdout",
          "text": [
            "1/1 [==============================] - 0s 26ms/step\n",
            "1/1 [==============================] - 0s 20ms/step\n",
            "Original images: \n",
            "\n"
          ]
        },
        {
          "output_type": "display_data",
          "data": {
            "text/plain": [
              "<Figure size 640x480 with 10 Axes>"
            ],
            "image/png": "[encoded data removed]"
          },
          "metadata": {}
        },
        {
          "output_type": "stream",
          "name": "stdout",
          "text": [
            "Reconstructed images: \n",
            "\n"
          ]
        },
        {
          "output_type": "display_data",
          "data": {
            "text/plain": [
              "<Figure size 640x480 with 10 Axes>"
            ],
            "image/png": "[encoded data removed]"
          },
          "metadata": {}
        }
      ]
    },
    {
      "cell_type": "code",
      "source": [
        "print(reconstructed_data1.shape)"
      ],
      "metadata": {
        "colab": {
          "base_uri": "https://localhost:8080/"
        },
        "id": "vodqyQNInKlb",
        "outputId": "554f2259-a784-4fc7-b49a-fecd2d6cbf56"
      },
      "execution_count": null,
      "outputs": [
        {
          "output_type": "stream",
          "name": "stdout",
          "text": [
            "(10, 784)\n"
          ]
        }
      ]
    },
    {
      "cell_type": "code",
      "source": [
        "import os\n",
        "folder_path = \"/content/testdata\"\n",
        "files = [f for f in os.listdir(folder_path) if f.endswith('.jpg') or f.endswith('.jpeg')]\n",
        "n = len(files)\n",
        "# print(n)\n",
        "\n",
        "\n",
        "plt. figure(figsize = (20, 4))\n",
        "\n",
        "for i in range(n):\n",
        "    file_path = os.path.join(folder_path, files[i])\n",
        "    img = Image.open(file_path)\n",
        "\n",
        "    img_resized = img.resize((28, 28))\n",
        "    ax = plt.subplot(2, n, i + 1)\n",
        "    plt.imshow(img_resized, cmap='gray')\n",
        "    plt.gray()\n",
        "    ax.get_xaxis().set_visible(False)\n",
        "    ax.get_yaxis().set_visible(False)\n",
        "plt.show()"
      ],
      "metadata": {
        "colab": {
          "base_uri": "https://localhost:8080/",
          "height": 245
        },
        "id": "4P-0I75z3jRp",
        "outputId": "4989edd4-41ad-41e4-fe21-9af62d07b3c8"
      },
      "execution_count": null,
      "outputs": [
        {
          "output_type": "error",
          "ename": "FileNotFoundError",
          "evalue": "ignored",
          "traceback": [
            "\u001b[0;31m---------------------------------------------------------------------------\u001b[0m",
            "\u001b[0;31mFileNotFoundError\u001b[0m                         Traceback (most recent call last)",
            "\u001b[0;32m<ipython-input-19-2270d1b40227>\u001b[0m in \u001b[0;36m<cell line: 3>\u001b[0;34m()\u001b[0m\n\u001b[1;32m      1\u001b[0m \u001b[0;32mimport\u001b[0m \u001b[0mos\u001b[0m\u001b[0;34m\u001b[0m\u001b[0;34m\u001b[0m\u001b[0m\n\u001b[1;32m      2\u001b[0m \u001b[0mfolder_path\u001b[0m \u001b[0;34m=\u001b[0m \u001b[0;34m\"/content/testdata\"\u001b[0m\u001b[0;34m\u001b[0m\u001b[0;34m\u001b[0m\u001b[0m\n\u001b[0;32m----> 3\u001b[0;31m \u001b[0mfiles\u001b[0m \u001b[0;34m=\u001b[0m \u001b[0;34m[\u001b[0m\u001b[0mf\u001b[0m \u001b[0;32mfor\u001b[0m \u001b[0mf\u001b[0m \u001b[0;32min\u001b[0m \u001b[0mos\u001b[0m\u001b[0;34m.\u001b[0m\u001b[0mlistdir\u001b[0m\u001b[0;34m(\u001b[0m\u001b[0mfolder_path\u001b[0m\u001b[0;34m)\u001b[0m \u001b[0;32mif\u001b[0m \u001b[0mf\u001b[0m\u001b[0;34m.\u001b[0m\u001b[0mendswith\u001b[0m\u001b[0;34m(\u001b[0m\u001b[0;34m'.jpg'\u001b[0m\u001b[0;34m)\u001b[0m \u001b[0;32mor\u001b[0m \u001b[0mf\u001b[0m\u001b[0;34m.\u001b[0m\u001b[0mendswith\u001b[0m\u001b[0;34m(\u001b[0m\u001b[0;34m'.jpeg'\u001b[0m\u001b[0;34m)\u001b[0m\u001b[0;34m]\u001b[0m\u001b[0;34m\u001b[0m\u001b[0;34m\u001b[0m\u001b[0m\n\u001b[0m\u001b[1;32m      4\u001b[0m \u001b[0mn\u001b[0m \u001b[0;34m=\u001b[0m \u001b[0mlen\u001b[0m\u001b[0;34m(\u001b[0m\u001b[0mfiles\u001b[0m\u001b[0;34m)\u001b[0m\u001b[0;34m\u001b[0m\u001b[0;34m\u001b[0m\u001b[0m\n\u001b[1;32m      5\u001b[0m \u001b[0;31m# print(n)\u001b[0m\u001b[0;34m\u001b[0m\u001b[0;34m\u001b[0m\u001b[0m\n",
            "\u001b[0;31mFileNotFoundError\u001b[0m: [Errno 2] No such file or directory: '/content/testdata'"
          ]
        }
      ]
    },
    {
      "cell_type": "code",
      "source": [
        "\n",
        "import PIL\n",
        "from PIL import Image\n",
        "\n",
        "files = [f for f in os.listdir(folder_path) if f.endswith('.jpg') or f.endswith('.jpeg')]\n",
        "n = len(files)\n",
        "\n",
        "# Create an empty array to store the resized images\n",
        "x_retest = np.empty((28, 28, 0), dtype=np.uint8)\n",
        "\n",
        "for i in range(n):\n",
        "    file_path = os.path.join(folder_path, files[i])\n",
        "    img = Image.open(file_path)\n",
        "    # img = PIL.ImageOps.invert(img)\n",
        "\n",
        "\n",
        "    img_resized = img.resize((28, 28))\n",
        "    x_retest = np.concatenate((x_retest, img_resized), axis=-1)\n",
        "\n",
        "    ax = plt.subplot(2, n, i + 1)\n",
        "    plt.imshow(img_resized, cmap='gray')\n",
        "    plt.gray()\n",
        "    ax.get_xaxis().set_visible(False)\n",
        "    ax.get_yaxis().set_visible(False)\n",
        "\n",
        "plt.show()\n",
        "\n"
      ],
      "metadata": {
        "id": "t2KJb-oF5__1"
      },
      "execution_count": null,
      "outputs": []
    },
    {
      "cell_type": "code",
      "source": [
        "num =len(files)\n",
        "x_test_hand = []\n",
        "for i in range(num):\n",
        "    x_test_hand.append(x_retest[:,:,i*3])\n",
        "\n",
        "x_test_hand = np.array(x_test_hand)\n",
        "\n",
        "x_test_hand = x_test_hand.reshape(num,-1)\n",
        "# x_test_hand = x_test_hand.T\n",
        "print(x_test_hand.shape)\n",
        "\n",
        "\n",
        "fig, axes = plt.subplots(1, num, figsize=(num * 2, 2))\n",
        "fig.subplots_adjust(hspace=0.4, wspace=0.4)\n",
        "\n",
        "# Display each image in x_retest\n",
        "for i in range(num):\n",
        "    ax = axes[i]\n",
        "    # ax.imshow(x_test_hand[:, :, i], cmap='gray')\n",
        "    ax.imshow(x_test_hand[i, :].reshape(28,28), cmap='gray')\n",
        "    ax.get_xaxis().set_visible(False)\n",
        "    ax.get_yaxis().set_visible(False)\n",
        "\n",
        "plt.show()"
      ],
      "metadata": {
        "id": "4kY1H3wn_z_s"
      },
      "execution_count": null,
      "outputs": []
    },
    {
      "cell_type": "code",
      "source": [
        "x_test_hand = x_test_hand.astype('float32') / 255.0\n",
        "# linearising\n",
        "x_test_hand = x_test_hand.reshape((num, np.prod(x_test_hand.shape[1:])))\n",
        "print(x_test_hand.shape)\n",
        "\n"
      ],
      "metadata": {
        "id": "gtArBu7OAW7N"
      },
      "execution_count": null,
      "outputs": []
    },
    {
      "cell_type": "code",
      "source": [
        "\n",
        "compressed_data2, _, _ = encoder.predict(x_test_hand)\n",
        "reconstructed_data2 = decoder.predict(compressed_data2)\n",
        "\n",
        "print(\"Original images: \\n\")\n",
        "for i in range(num):\n",
        "    ax = plt.subplot(2, num, i + 1)\n",
        "    plt. imshow(x_test_hand[i].reshape(28, 28))\n",
        "    plt. gray()\n",
        "    ax.get_xaxis().set_visible(False)\n",
        "    ax.get_yaxis().set_visible(False)\n",
        "plt.show()\n",
        "\n",
        "print(\"Original images: \\n\")\n",
        "for i in range(num):\n",
        "    ax = plt. subplot (2, num, i + 1 + num)\n",
        "    plt.imshow(reconstructed_data2[i].reshape(28, 28))\n",
        "    plt.gray()\n",
        "    ax.get_xaxis().set_visible(False)\n",
        "    ax.get_yaxis() .set_visible(False)\n",
        "plt. show ()"
      ],
      "metadata": {
        "id": "juLHcErvFBbr"
      },
      "execution_count": null,
      "outputs": []
    },
    {
      "cell_type": "code",
      "source": [],
      "metadata": {
        "id": "jLpX4_VyFo74"
      },
      "execution_count": null,
      "outputs": []
    },
    {
      "cell_type": "code",
      "source": [],
      "metadata": {
        "id": "hCmSf31CPAkA"
      },
      "execution_count": null,
      "outputs": []
    },
    {
      "cell_type": "code",
      "source": [],
      "metadata": {
        "id": "tC7otQcHPAhc"
      },
      "execution_count": null,
      "outputs": []
    },
    {
      "cell_type": "code",
      "source": [
        "! pip install gradio"
      ],
      "metadata": {
        "id": "n3rHw4m3PAeU"
      },
      "execution_count": null,
      "outputs": []
    },
    {
      "cell_type": "code",
      "source": [
        "! pip install typing_extensions"
      ],
      "metadata": {
        "id": "IoF56SKLPmte"
      },
      "execution_count": null,
      "outputs": []
    },
    {
      "cell_type": "code",
      "source": [
        "import gradio as gr\n",
        "iface = gr.Interface(\n",
        "    fn=[encode_image, decode_image],\n",
        "    inputs=gr.Image(type=\"pil\", label=\"Upload Handwritten Digit\"),\n",
        "    outputs=[gr.Image(type=\"numpy\", label=\"Encoded Image\"),\n",
        "             gr.Image(type=\"numpy\", label=\"Reconstructed Image\")]\n",
        ")\n",
        "\n",
        "# Launch the interface\n",
        "iface.launch()"
      ],
      "metadata": {
        "id": "B3wwNVT4PAbw"
      },
      "execution_count": null,
      "outputs": []
    },
    {
      "cell_type": "code",
      "source": [],
      "metadata": {
        "id": "zcr0CYXhPDu2"
      },
      "execution_count": null,
      "outputs": []
    }
  ]
}